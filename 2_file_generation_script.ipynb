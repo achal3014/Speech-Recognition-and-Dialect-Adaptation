{
 "cells": [
  {
   "cell_type": "code",
   "execution_count": 66,
   "id": "fe8eb420",
   "metadata": {},
   "outputs": [],
   "source": [
    "import os\n",
    "import pandas as pd\n",
    "from sklearn.model_selection import StratifiedShuffleSplit"
   ]
  },
  {
   "cell_type": "code",
   "execution_count": 2,
   "id": "51d7f554",
   "metadata": {},
   "outputs": [],
   "source": [
    "dataset_path = r\"C:\\Users\\achal\\Downloads\\audio_l2_arctic\""
   ]
  },
  {
   "cell_type": "code",
   "execution_count": 3,
   "id": "1b632d76",
   "metadata": {},
   "outputs": [
    {
     "data": {
      "text/plain": [
       "['ABA-Arabic-M--ABAM',\n",
       " 'EBVS-Spanish-Male--006EBVSM',\n",
       " 'ERMS-Spanish-Male--005ERMSM',\n",
       " 'HJK-Korean-F--002HJKF',\n",
       " 'HKK-Korean-M--000HKKM',\n",
       " 'MBMPS-Spanish-F--007MBMPSF',\n",
       " 'NJS-Spanish-Female--003NJSF',\n",
       " 'SKAA-Arabic-F--008SKAAF',\n",
       " 'YBAA-Arabic-M--009YBAAM',\n",
       " 'YDCK-Korean-F--001YDCKF',\n",
       " 'YKWK-Korean-M--004YKWKM',\n",
       " 'ZHAA-Arabic-F--ZHAAF']"
      ]
     },
     "execution_count": 3,
     "metadata": {},
     "output_type": "execute_result"
    }
   ],
   "source": [
    "os.listdir(dataset_path)"
   ]
  },
  {
   "cell_type": "code",
   "execution_count": 5,
   "id": "d4594c22",
   "metadata": {},
   "outputs": [
    {
     "name": "stdout",
     "output_type": "stream",
     "text": [
      "C:\\Users\\achal\\Downloads\\audio_l2_arctic\\ABA-Arabic-M--ABAM\n",
      "C:\\Users\\achal\\Downloads\\audio_l2_arctic\\EBVS-Spanish-Male--006EBVSM\n",
      "C:\\Users\\achal\\Downloads\\audio_l2_arctic\\ERMS-Spanish-Male--005ERMSM\n",
      "C:\\Users\\achal\\Downloads\\audio_l2_arctic\\HJK-Korean-F--002HJKF\n",
      "C:\\Users\\achal\\Downloads\\audio_l2_arctic\\HKK-Korean-M--000HKKM\n",
      "C:\\Users\\achal\\Downloads\\audio_l2_arctic\\MBMPS-Spanish-F--007MBMPSF\n",
      "C:\\Users\\achal\\Downloads\\audio_l2_arctic\\NJS-Spanish-Female--003NJSF\n",
      "C:\\Users\\achal\\Downloads\\audio_l2_arctic\\SKAA-Arabic-F--008SKAAF\n",
      "C:\\Users\\achal\\Downloads\\audio_l2_arctic\\YBAA-Arabic-M--009YBAAM\n",
      "C:\\Users\\achal\\Downloads\\audio_l2_arctic\\YDCK-Korean-F--001YDCKF\n",
      "C:\\Users\\achal\\Downloads\\audio_l2_arctic\\YKWK-Korean-M--004YKWKM\n",
      "C:\\Users\\achal\\Downloads\\audio_l2_arctic\\ZHAA-Arabic-F--ZHAAF\n"
     ]
    }
   ],
   "source": [
    "for folder in os.listdir(dataset_path):\n",
    "    folder_path = os.path.join(dataset_path, folder)\n",
    "    print(folder_path)"
   ]
  },
  {
   "cell_type": "markdown",
   "id": "0467fa5e",
   "metadata": {},
   "source": [
    "Script to change the pathname so that differentiating the paths is possible\n",
    "Note: Path gets renamed in this code so don't run it again"
   ]
  },
  {
   "cell_type": "code",
   "execution_count": null,
   "id": "a6a57f22",
   "metadata": {},
   "outputs": [],
   "source": [
    "# for folder in os.listdir(dataset_path):\n",
    "#     folder_path = os.path.join(dataset_path, folder)\n",
    "\n",
    "#     if os.path.isdir(folder_path):\n",
    "#         parts = folder.split('-')\n",
    "#         if len(parts) >= 4:\n",
    "#             client_id = parts[3]\n",
    "#         else:\n",
    "#             client_id = folder\n",
    "\n",
    "#         wav_folder = os.path.join(folder_path, 'wav')\n",
    "        \n",
    "#         if os.path.exists(wav_folder):\n",
    "#             for file in os.listdir(wav_folder):\n",
    "#                 if file.endswith('.wav'):\n",
    "#                     old_file_path = os.path.join(wav_folder, file)\n",
    "#                     new_file_name = f\"{client_id}_{file}\"\n",
    "#                     new_file_path = os.path.join(wav_folder, new_file_name)\n",
    "\n",
    "#                     os.rename(old_file_path, new_file_path)\n"
   ]
  },
  {
   "cell_type": "code",
   "execution_count": null,
   "id": "830ddeed",
   "metadata": {},
   "outputs": [],
   "source": [
    "# for folder in os.listdir(dataset_path):\n",
    "#     folder_path = os.path.join(dataset_path, folder)\n",
    "\n",
    "#     if os.path.isdir(folder_path):\n",
    "#         parts = folder.split('-')\n",
    "#         if len(parts) >= 4:\n",
    "#             client_id = parts[3]\n",
    "#         else:\n",
    "#             client_id = folder\n",
    "\n",
    "#         sentence_folder = os.path.join(folder_path, 'sentence')\n",
    "        \n",
    "#         if os.path.exists(sentence_folder):\n",
    "#             for file in os.listdir(sentence_folder):\n",
    "#                 if file.endswith('.txt'):\n",
    "#                     old_file_path = os.path.join(sentence_folder, file)\n",
    "#                     new_file_name = f\"{client_id}_{file}\"\n",
    "#                     new_file_path = os.path.join(sentence_folder, new_file_name)\n",
    "\n",
    "#                     os.rename(old_file_path, new_file_path)"
   ]
  },
  {
   "cell_type": "code",
   "execution_count": null,
   "id": "d9f435f4",
   "metadata": {},
   "outputs": [],
   "source": [
    "data = []\n",
    "\n",
    "for folder in os.listdir(dataset_path):\n",
    "    folder_path = os.path.join(dataset_path, folder)\n",
    "    \n",
    "    if os.path.isdir(folder_path):\n",
    "        parts = folder.split('-')\n",
    "        if len(parts) >= 4:\n",
    "            client_id = parts[3]\n",
    "        else:\n",
    "            client_id = folder \n",
    "\n",
    "        wav_folder = os.path.join(folder_path, 'wav')\n",
    "\n",
    "        if os.path.exists(wav_folder):\n",
    "            for file in os.listdir(wav_folder):\n",
    "                if file.endswith('.wav'):\n",
    "                    data.append({'path': file, 'client_id': client_id})\n",
    "\n",
    "df = pd.DataFrame(data)\n"
   ]
  },
  {
   "cell_type": "code",
   "execution_count": 23,
   "id": "48f265a4",
   "metadata": {},
   "outputs": [
    {
     "data": {
      "text/html": [
       "<div>\n",
       "<style scoped>\n",
       "    .dataframe tbody tr th:only-of-type {\n",
       "        vertical-align: middle;\n",
       "    }\n",
       "\n",
       "    .dataframe tbody tr th {\n",
       "        vertical-align: top;\n",
       "    }\n",
       "\n",
       "    .dataframe thead th {\n",
       "        text-align: right;\n",
       "    }\n",
       "</style>\n",
       "<table border=\"1\" class=\"dataframe\">\n",
       "  <thead>\n",
       "    <tr style=\"text-align: right;\">\n",
       "      <th></th>\n",
       "      <th>path</th>\n",
       "      <th>client_id</th>\n",
       "    </tr>\n",
       "  </thead>\n",
       "  <tbody>\n",
       "    <tr>\n",
       "      <th>0</th>\n",
       "      <td>010ABAM_arctic_b0508.wav</td>\n",
       "      <td>010ABAM</td>\n",
       "    </tr>\n",
       "    <tr>\n",
       "      <th>1</th>\n",
       "      <td>010ABAM_arctic_b0509.wav</td>\n",
       "      <td>010ABAM</td>\n",
       "    </tr>\n",
       "    <tr>\n",
       "      <th>2</th>\n",
       "      <td>010ABAM_arctic_b0510.wav</td>\n",
       "      <td>010ABAM</td>\n",
       "    </tr>\n",
       "    <tr>\n",
       "      <th>3</th>\n",
       "      <td>010ABAM_arctic_b0511.wav</td>\n",
       "      <td>010ABAM</td>\n",
       "    </tr>\n",
       "    <tr>\n",
       "      <th>4</th>\n",
       "      <td>010ABAM_arctic_b0512.wav</td>\n",
       "      <td>010ABAM</td>\n",
       "    </tr>\n",
       "  </tbody>\n",
       "</table>\n",
       "</div>"
      ],
      "text/plain": [
       "                       path client_id\n",
       "0  010ABAM_arctic_b0508.wav   010ABAM\n",
       "1  010ABAM_arctic_b0509.wav   010ABAM\n",
       "2  010ABAM_arctic_b0510.wav   010ABAM\n",
       "3  010ABAM_arctic_b0511.wav   010ABAM\n",
       "4  010ABAM_arctic_b0512.wav   010ABAM"
      ]
     },
     "execution_count": 23,
     "metadata": {},
     "output_type": "execute_result"
    }
   ],
   "source": [
    "df.head()"
   ]
  },
  {
   "cell_type": "code",
   "execution_count": 35,
   "id": "c84c1cbd",
   "metadata": {},
   "outputs": [],
   "source": [
    "def get_sentence(wav_file_name):\n",
    "    for folder in os.listdir(dataset_path):\n",
    "        folder_path = os.path.join(dataset_path, folder)\n",
    "\n",
    "        if os.path.isdir(folder_path):\n",
    "            sentences_folder = os.path.join(folder_path, 'sentence')\n",
    "            txt_file = wav_file_name.replace('.wav', '.txt')\n",
    "            txt_file_path = os.path.join(sentences_folder, txt_file)\n",
    "\n",
    "            if os.path.exists(txt_file_path):\n",
    "                with open(txt_file_path, 'r', encoding='utf-8') as f:\n",
    "                    return f.read().strip()\n",
    "    \n",
    "    return None"
   ]
  },
  {
   "cell_type": "code",
   "execution_count": null,
   "id": "0e8b06dc",
   "metadata": {},
   "outputs": [],
   "source": [
    "df['sentence'] = df['path'].apply(get_sentence)"
   ]
  },
  {
   "cell_type": "code",
   "execution_count": 38,
   "id": "40502c70",
   "metadata": {},
   "outputs": [
    {
     "data": {
      "text/html": [
       "<div>\n",
       "<style scoped>\n",
       "    .dataframe tbody tr th:only-of-type {\n",
       "        vertical-align: middle;\n",
       "    }\n",
       "\n",
       "    .dataframe tbody tr th {\n",
       "        vertical-align: top;\n",
       "    }\n",
       "\n",
       "    .dataframe thead th {\n",
       "        text-align: right;\n",
       "    }\n",
       "</style>\n",
       "<table border=\"1\" class=\"dataframe\">\n",
       "  <thead>\n",
       "    <tr style=\"text-align: right;\">\n",
       "      <th></th>\n",
       "      <th>path</th>\n",
       "      <th>client_id</th>\n",
       "      <th>sentence</th>\n",
       "    </tr>\n",
       "  </thead>\n",
       "  <tbody>\n",
       "    <tr>\n",
       "      <th>0</th>\n",
       "      <td>010ABAM_arctic_b0508.wav</td>\n",
       "      <td>010ABAM</td>\n",
       "      <td>In his anxiety and solicitude and love they di...</td>\n",
       "    </tr>\n",
       "    <tr>\n",
       "      <th>1</th>\n",
       "      <td>010ABAM_arctic_b0509.wav</td>\n",
       "      <td>010ABAM</td>\n",
       "      <td>He had fulfilled his duty and paid properly</td>\n",
       "    </tr>\n",
       "    <tr>\n",
       "      <th>2</th>\n",
       "      <td>010ABAM_arctic_b0510.wav</td>\n",
       "      <td>010ABAM</td>\n",
       "      <td>He knew what taboos he was violating</td>\n",
       "    </tr>\n",
       "    <tr>\n",
       "      <th>3</th>\n",
       "      <td>010ABAM_arctic_b0511.wav</td>\n",
       "      <td>010ABAM</td>\n",
       "      <td>Do you value your hide</td>\n",
       "    </tr>\n",
       "    <tr>\n",
       "      <th>4</th>\n",
       "      <td>010ABAM_arctic_b0512.wav</td>\n",
       "      <td>010ABAM</td>\n",
       "      <td>You should have seen them when they heard me s...</td>\n",
       "    </tr>\n",
       "  </tbody>\n",
       "</table>\n",
       "</div>"
      ],
      "text/plain": [
       "                       path client_id  \\\n",
       "0  010ABAM_arctic_b0508.wav   010ABAM   \n",
       "1  010ABAM_arctic_b0509.wav   010ABAM   \n",
       "2  010ABAM_arctic_b0510.wav   010ABAM   \n",
       "3  010ABAM_arctic_b0511.wav   010ABAM   \n",
       "4  010ABAM_arctic_b0512.wav   010ABAM   \n",
       "\n",
       "                                            sentence  \n",
       "0  In his anxiety and solicitude and love they di...  \n",
       "1        He had fulfilled his duty and paid properly  \n",
       "2               He knew what taboos he was violating  \n",
       "3                             Do you value your hide  \n",
       "4  You should have seen them when they heard me s...  "
      ]
     },
     "execution_count": 38,
     "metadata": {},
     "output_type": "execute_result"
    }
   ],
   "source": [
    "df.head()"
   ]
  },
  {
   "cell_type": "code",
   "execution_count": 41,
   "id": "0a75bf68",
   "metadata": {},
   "outputs": [],
   "source": [
    "df['gender'] = df['client_id'].apply(lambda x: 'male_masculine' if x[-1].upper() == 'M' else ('female_feminine' if x[-1].upper() == 'F' else None))"
   ]
  },
  {
   "cell_type": "code",
   "execution_count": 43,
   "id": "cc41943e",
   "metadata": {},
   "outputs": [],
   "source": [
    "def accent_decision(client_id):\n",
    "    if client_id[-2].upper() == 'A':\n",
    "        return 'Arabian'\n",
    "    elif client_id[-2].upper() == 'K':\n",
    "        return 'Korean'\n",
    "    elif client_id[-2].upper() == 'S':\n",
    "        return 'Spanish'\n",
    "    else:\n",
    "        return None"
   ]
  },
  {
   "cell_type": "code",
   "execution_count": 44,
   "id": "93a84d51",
   "metadata": {},
   "outputs": [],
   "source": [
    "df['accents'] = df['client_id'].apply(accent_decision)"
   ]
  },
  {
   "cell_type": "code",
   "execution_count": 48,
   "id": "2baba505",
   "metadata": {},
   "outputs": [
    {
     "data": {
      "text/html": [
       "<div>\n",
       "<style scoped>\n",
       "    .dataframe tbody tr th:only-of-type {\n",
       "        vertical-align: middle;\n",
       "    }\n",
       "\n",
       "    .dataframe tbody tr th {\n",
       "        vertical-align: top;\n",
       "    }\n",
       "\n",
       "    .dataframe thead th {\n",
       "        text-align: right;\n",
       "    }\n",
       "</style>\n",
       "<table border=\"1\" class=\"dataframe\">\n",
       "  <thead>\n",
       "    <tr style=\"text-align: right;\">\n",
       "      <th></th>\n",
       "      <th>path</th>\n",
       "      <th>client_id</th>\n",
       "      <th>sentence</th>\n",
       "      <th>gender</th>\n",
       "      <th>accents</th>\n",
       "    </tr>\n",
       "  </thead>\n",
       "  <tbody>\n",
       "    <tr>\n",
       "      <th>75</th>\n",
       "      <td>005ERMSM_arctic_a0020.wav</td>\n",
       "      <td>005ERMSM</td>\n",
       "      <td>Clubs and balls and cities grew to be only mem...</td>\n",
       "      <td>male_masculine</td>\n",
       "      <td>Spanish</td>\n",
       "    </tr>\n",
       "    <tr>\n",
       "      <th>76</th>\n",
       "      <td>005ERMSM_arctic_a0021.wav</td>\n",
       "      <td>005ERMSM</td>\n",
       "      <td>It fairly clubbed me into recognizing it</td>\n",
       "      <td>male_masculine</td>\n",
       "      <td>Spanish</td>\n",
       "    </tr>\n",
       "    <tr>\n",
       "      <th>77</th>\n",
       "      <td>005ERMSM_arctic_a0022.wav</td>\n",
       "      <td>005ERMSM</td>\n",
       "      <td>Hardly were our plans made public before we we...</td>\n",
       "      <td>male_masculine</td>\n",
       "      <td>Spanish</td>\n",
       "    </tr>\n",
       "    <tr>\n",
       "      <th>78</th>\n",
       "      <td>005ERMSM_arctic_a0023.wav</td>\n",
       "      <td>005ERMSM</td>\n",
       "      <td>A combination of Canadian capital quickly orga...</td>\n",
       "      <td>male_masculine</td>\n",
       "      <td>Spanish</td>\n",
       "    </tr>\n",
       "    <tr>\n",
       "      <th>79</th>\n",
       "      <td>005ERMSM_arctic_a0024.wav</td>\n",
       "      <td>005ERMSM</td>\n",
       "      <td>It was my reports from the north which chiefly...</td>\n",
       "      <td>male_masculine</td>\n",
       "      <td>Spanish</td>\n",
       "    </tr>\n",
       "    <tr>\n",
       "      <th>80</th>\n",
       "      <td>005ERMSM_arctic_a0025.wav</td>\n",
       "      <td>005ERMSM</td>\n",
       "      <td>I was about to do this when cooler judgment pr...</td>\n",
       "      <td>male_masculine</td>\n",
       "      <td>Spanish</td>\n",
       "    </tr>\n",
       "    <tr>\n",
       "      <th>81</th>\n",
       "      <td>005ERMSM_arctic_a0026.wav</td>\n",
       "      <td>005ERMSM</td>\n",
       "      <td>It occurred to me that there would have to be ...</td>\n",
       "      <td>male_masculine</td>\n",
       "      <td>Spanish</td>\n",
       "    </tr>\n",
       "    <tr>\n",
       "      <th>82</th>\n",
       "      <td>002HJKF_arctic_a0001.wav</td>\n",
       "      <td>002HJKF</td>\n",
       "      <td>Author of the danger trail Philip Steels etc</td>\n",
       "      <td>female_feminine</td>\n",
       "      <td>Korean</td>\n",
       "    </tr>\n",
       "    <tr>\n",
       "      <th>83</th>\n",
       "      <td>002HJKF_arctic_a0002.wav</td>\n",
       "      <td>002HJKF</td>\n",
       "      <td>Not at this particular case Tom apologized Whi...</td>\n",
       "      <td>female_feminine</td>\n",
       "      <td>Korean</td>\n",
       "    </tr>\n",
       "    <tr>\n",
       "      <th>84</th>\n",
       "      <td>002HJKF_arctic_a0003.wav</td>\n",
       "      <td>002HJKF</td>\n",
       "      <td>For the twentieth time that evening the two me...</td>\n",
       "      <td>female_feminine</td>\n",
       "      <td>Korean</td>\n",
       "    </tr>\n",
       "  </tbody>\n",
       "</table>\n",
       "</div>"
      ],
      "text/plain": [
       "                         path client_id  \\\n",
       "75  005ERMSM_arctic_a0020.wav  005ERMSM   \n",
       "76  005ERMSM_arctic_a0021.wav  005ERMSM   \n",
       "77  005ERMSM_arctic_a0022.wav  005ERMSM   \n",
       "78  005ERMSM_arctic_a0023.wav  005ERMSM   \n",
       "79  005ERMSM_arctic_a0024.wav  005ERMSM   \n",
       "80  005ERMSM_arctic_a0025.wav  005ERMSM   \n",
       "81  005ERMSM_arctic_a0026.wav  005ERMSM   \n",
       "82   002HJKF_arctic_a0001.wav   002HJKF   \n",
       "83   002HJKF_arctic_a0002.wav   002HJKF   \n",
       "84   002HJKF_arctic_a0003.wav   002HJKF   \n",
       "\n",
       "                                             sentence           gender  \\\n",
       "75  Clubs and balls and cities grew to be only mem...   male_masculine   \n",
       "76           It fairly clubbed me into recognizing it   male_masculine   \n",
       "77  Hardly were our plans made public before we we...   male_masculine   \n",
       "78  A combination of Canadian capital quickly orga...   male_masculine   \n",
       "79  It was my reports from the north which chiefly...   male_masculine   \n",
       "80  I was about to do this when cooler judgment pr...   male_masculine   \n",
       "81  It occurred to me that there would have to be ...   male_masculine   \n",
       "82       Author of the danger trail Philip Steels etc  female_feminine   \n",
       "83  Not at this particular case Tom apologized Whi...  female_feminine   \n",
       "84  For the twentieth time that evening the two me...  female_feminine   \n",
       "\n",
       "    accents  \n",
       "75  Spanish  \n",
       "76  Spanish  \n",
       "77  Spanish  \n",
       "78  Spanish  \n",
       "79  Spanish  \n",
       "80  Spanish  \n",
       "81  Spanish  \n",
       "82   Korean  \n",
       "83   Korean  \n",
       "84   Korean  "
      ]
     },
     "execution_count": 48,
     "metadata": {},
     "output_type": "execute_result"
    }
   ],
   "source": [
    "df.iloc[75:85]"
   ]
  },
  {
   "cell_type": "code",
   "execution_count": 49,
   "id": "819bd164",
   "metadata": {},
   "outputs": [
    {
     "name": "stdout",
     "output_type": "stream",
     "text": [
      "<class 'pandas.core.frame.DataFrame'>\n",
      "RangeIndex: 324 entries, 0 to 323\n",
      "Data columns (total 5 columns):\n",
      " #   Column     Non-Null Count  Dtype \n",
      "---  ------     --------------  ----- \n",
      " 0   path       324 non-null    object\n",
      " 1   client_id  324 non-null    object\n",
      " 2   sentence   324 non-null    object\n",
      " 3   gender     324 non-null    object\n",
      " 4   accents    324 non-null    object\n",
      "dtypes: object(5)\n",
      "memory usage: 12.8+ KB\n"
     ]
    }
   ],
   "source": [
    "df.info()"
   ]
  },
  {
   "cell_type": "code",
   "execution_count": 54,
   "id": "a5cf4679",
   "metadata": {},
   "outputs": [],
   "source": [
    "reduced_df = pd.DataFrame()\n",
    "\n",
    "for client in df['client_id'].unique():\n",
    "    client_rows = df[df['client_id'] == client]\n",
    "\n",
    "    if len(client_rows) >= 25:\n",
    "        client_rows = client_rows.sample(n=len(client_rows) - 10, random_state=42)\n",
    "    else:\n",
    "        client_rows = client_rows.sample(n=len(client_rows) - 7, random_state=42) \n",
    "    \n",
    "    reduced_df = pd.concat([reduced_df, client_rows], ignore_index=True)\n"
   ]
  },
  {
   "cell_type": "code",
   "execution_count": 55,
   "id": "b8545c40",
   "metadata": {},
   "outputs": [
    {
     "name": "stdout",
     "output_type": "stream",
     "text": [
      "<class 'pandas.core.frame.DataFrame'>\n",
      "RangeIndex: 216 entries, 0 to 215\n",
      "Data columns (total 5 columns):\n",
      " #   Column     Non-Null Count  Dtype \n",
      "---  ------     --------------  ----- \n",
      " 0   path       216 non-null    object\n",
      " 1   client_id  216 non-null    object\n",
      " 2   sentence   216 non-null    object\n",
      " 3   gender     216 non-null    object\n",
      " 4   accents    216 non-null    object\n",
      "dtypes: object(5)\n",
      "memory usage: 8.6+ KB\n"
     ]
    }
   ],
   "source": [
    "reduced_df.info()"
   ]
  },
  {
   "cell_type": "code",
   "execution_count": 59,
   "id": "9a057780",
   "metadata": {},
   "outputs": [
    {
     "data": {
      "text/plain": [
       "['path', 'client_id', 'sentence', 'gender', 'accents']"
      ]
     },
     "execution_count": 59,
     "metadata": {},
     "output_type": "execute_result"
    }
   ],
   "source": [
    "reduced_df.columns.to_list()"
   ]
  },
  {
   "cell_type": "code",
   "execution_count": 62,
   "id": "e9cccc4b",
   "metadata": {},
   "outputs": [],
   "source": [
    "reduced_df = reduced_df[['client_id','path', 'sentence', 'gender', 'accents']]"
   ]
  },
  {
   "cell_type": "code",
   "execution_count": 63,
   "id": "c2e9c5c8",
   "metadata": {},
   "outputs": [
    {
     "data": {
      "text/html": [
       "<div>\n",
       "<style scoped>\n",
       "    .dataframe tbody tr th:only-of-type {\n",
       "        vertical-align: middle;\n",
       "    }\n",
       "\n",
       "    .dataframe tbody tr th {\n",
       "        vertical-align: top;\n",
       "    }\n",
       "\n",
       "    .dataframe thead th {\n",
       "        text-align: right;\n",
       "    }\n",
       "</style>\n",
       "<table border=\"1\" class=\"dataframe\">\n",
       "  <thead>\n",
       "    <tr style=\"text-align: right;\">\n",
       "      <th></th>\n",
       "      <th>client_id</th>\n",
       "      <th>path</th>\n",
       "      <th>sentence</th>\n",
       "      <th>gender</th>\n",
       "      <th>accents</th>\n",
       "    </tr>\n",
       "  </thead>\n",
       "  <tbody>\n",
       "    <tr>\n",
       "      <th>0</th>\n",
       "      <td>010ABAM</td>\n",
       "      <td>010ABAM_arctic_b0537.wav</td>\n",
       "      <td>But she had become an automaton</td>\n",
       "      <td>male_masculine</td>\n",
       "      <td>Arabian</td>\n",
       "    </tr>\n",
       "    <tr>\n",
       "      <th>1</th>\n",
       "      <td>010ABAM</td>\n",
       "      <td>010ABAM_arctic_b0523.wav</td>\n",
       "      <td>The Russian music player the Count was her obe...</td>\n",
       "      <td>male_masculine</td>\n",
       "      <td>Arabian</td>\n",
       "    </tr>\n",
       "    <tr>\n",
       "      <th>2</th>\n",
       "      <td>010ABAM</td>\n",
       "      <td>010ABAM_arctic_b0532.wav</td>\n",
       "      <td>That Longfellow chap most likely had written c...</td>\n",
       "      <td>male_masculine</td>\n",
       "      <td>Arabian</td>\n",
       "    </tr>\n",
       "    <tr>\n",
       "      <th>3</th>\n",
       "      <td>010ABAM</td>\n",
       "      <td>010ABAM_arctic_b0525.wav</td>\n",
       "      <td>New idea he volunteered brand new idea</td>\n",
       "      <td>male_masculine</td>\n",
       "      <td>Arabian</td>\n",
       "    </tr>\n",
       "    <tr>\n",
       "      <th>4</th>\n",
       "      <td>010ABAM</td>\n",
       "      <td>010ABAM_arctic_b0516.wav</td>\n",
       "      <td>Zilla relaxed her sour mouth long enough to si...</td>\n",
       "      <td>male_masculine</td>\n",
       "      <td>Arabian</td>\n",
       "    </tr>\n",
       "    <tr>\n",
       "      <th>...</th>\n",
       "      <td>...</td>\n",
       "      <td>...</td>\n",
       "      <td>...</td>\n",
       "      <td>...</td>\n",
       "      <td>...</td>\n",
       "    </tr>\n",
       "    <tr>\n",
       "      <th>211</th>\n",
       "      <td>011ZHAAF</td>\n",
       "      <td>011ZHAAF_arctic_a0030.wav</td>\n",
       "      <td>I had faith in them</td>\n",
       "      <td>female_feminine</td>\n",
       "      <td>Arabian</td>\n",
       "    </tr>\n",
       "    <tr>\n",
       "      <th>212</th>\n",
       "      <td>011ZHAAF</td>\n",
       "      <td>011ZHAAF_arctic_a0004.wav</td>\n",
       "      <td>Lord but I'm glad to see you again Phil</td>\n",
       "      <td>female_feminine</td>\n",
       "      <td>Arabian</td>\n",
       "    </tr>\n",
       "    <tr>\n",
       "      <th>213</th>\n",
       "      <td>011ZHAAF</td>\n",
       "      <td>011ZHAAF_arctic_a0028.wav</td>\n",
       "      <td>Robbery bribery fraud</td>\n",
       "      <td>female_feminine</td>\n",
       "      <td>Arabian</td>\n",
       "    </tr>\n",
       "    <tr>\n",
       "      <th>214</th>\n",
       "      <td>011ZHAAF</td>\n",
       "      <td>011ZHAAF_arctic_a0024.wav</td>\n",
       "      <td>It was my reports from the north which chiefly...</td>\n",
       "      <td>female_feminine</td>\n",
       "      <td>Arabian</td>\n",
       "    </tr>\n",
       "    <tr>\n",
       "      <th>215</th>\n",
       "      <td>011ZHAAF</td>\n",
       "      <td>011ZHAAF_arctic_a0031.wav</td>\n",
       "      <td>They were three hundred yards apart</td>\n",
       "      <td>female_feminine</td>\n",
       "      <td>Arabian</td>\n",
       "    </tr>\n",
       "  </tbody>\n",
       "</table>\n",
       "<p>216 rows × 5 columns</p>\n",
       "</div>"
      ],
      "text/plain": [
       "    client_id                       path  \\\n",
       "0     010ABAM   010ABAM_arctic_b0537.wav   \n",
       "1     010ABAM   010ABAM_arctic_b0523.wav   \n",
       "2     010ABAM   010ABAM_arctic_b0532.wav   \n",
       "3     010ABAM   010ABAM_arctic_b0525.wav   \n",
       "4     010ABAM   010ABAM_arctic_b0516.wav   \n",
       "..        ...                        ...   \n",
       "211  011ZHAAF  011ZHAAF_arctic_a0030.wav   \n",
       "212  011ZHAAF  011ZHAAF_arctic_a0004.wav   \n",
       "213  011ZHAAF  011ZHAAF_arctic_a0028.wav   \n",
       "214  011ZHAAF  011ZHAAF_arctic_a0024.wav   \n",
       "215  011ZHAAF  011ZHAAF_arctic_a0031.wav   \n",
       "\n",
       "                                              sentence           gender  \\\n",
       "0                      But she had become an automaton   male_masculine   \n",
       "1    The Russian music player the Count was her obe...   male_masculine   \n",
       "2    That Longfellow chap most likely had written c...   male_masculine   \n",
       "3               New idea he volunteered brand new idea   male_masculine   \n",
       "4    Zilla relaxed her sour mouth long enough to si...   male_masculine   \n",
       "..                                                 ...              ...   \n",
       "211                                I had faith in them  female_feminine   \n",
       "212            Lord but I'm glad to see you again Phil  female_feminine   \n",
       "213                              Robbery bribery fraud  female_feminine   \n",
       "214  It was my reports from the north which chiefly...  female_feminine   \n",
       "215                They were three hundred yards apart  female_feminine   \n",
       "\n",
       "     accents  \n",
       "0    Arabian  \n",
       "1    Arabian  \n",
       "2    Arabian  \n",
       "3    Arabian  \n",
       "4    Arabian  \n",
       "..       ...  \n",
       "211  Arabian  \n",
       "212  Arabian  \n",
       "213  Arabian  \n",
       "214  Arabian  \n",
       "215  Arabian  \n",
       "\n",
       "[216 rows x 5 columns]"
      ]
     },
     "execution_count": 63,
     "metadata": {},
     "output_type": "execute_result"
    }
   ],
   "source": [
    "reduced_df"
   ]
  },
  {
   "cell_type": "code",
   "execution_count": 67,
   "id": "dadca2c3",
   "metadata": {},
   "outputs": [],
   "source": [
    "sss  = StratifiedShuffleSplit(n_splits=1, test_size=0.2, random_state=42)"
   ]
  },
  {
   "cell_type": "code",
   "execution_count": 68,
   "id": "b109fef4",
   "metadata": {},
   "outputs": [],
   "source": [
    "for train_idx, test_idx in sss.split(df, df['client_id']):\n",
    "    df_sampled_train = df.iloc[train_idx]\n",
    "    df_sampled_test = df.iloc[test_idx]"
   ]
  },
  {
   "cell_type": "code",
   "execution_count": 69,
   "id": "0327b846",
   "metadata": {},
   "outputs": [
    {
     "data": {
      "text/plain": [
       "client_id\n",
       "008SKAAF     29\n",
       "011ZHAAF     26\n",
       "010ABAM      25\n",
       "000HKKM      25\n",
       "001YDCKF     23\n",
       "009YBAAM     22\n",
       "005ERMSM     21\n",
       "003NJSF      20\n",
       "006EBVSM     19\n",
       "004YKWKM     17\n",
       "007MBMPSF    17\n",
       "002HJKF      15\n",
       "Name: count, dtype: int64"
      ]
     },
     "execution_count": 69,
     "metadata": {},
     "output_type": "execute_result"
    }
   ],
   "source": [
    "df_sampled_train['client_id'].value_counts()"
   ]
  },
  {
   "cell_type": "code",
   "execution_count": 70,
   "id": "4eb5b346",
   "metadata": {},
   "outputs": [
    {
     "data": {
      "text/plain": [
       "client_id\n",
       "011ZHAAF     7\n",
       "008SKAAF     7\n",
       "010ABAM      7\n",
       "000HKKM      6\n",
       "001YDCKF     6\n",
       "005ERMSM     5\n",
       "006EBVSM     5\n",
       "003NJSF      5\n",
       "009YBAAM     5\n",
       "002HJKF      4\n",
       "007MBMPSF    4\n",
       "004YKWKM     4\n",
       "Name: count, dtype: int64"
      ]
     },
     "execution_count": 70,
     "metadata": {},
     "output_type": "execute_result"
    }
   ],
   "source": [
    "df_sampled_test['client_id'].value_counts()"
   ]
  },
  {
   "cell_type": "code",
   "execution_count": 71,
   "id": "bac47450",
   "metadata": {},
   "outputs": [
    {
     "name": "stdout",
     "output_type": "stream",
     "text": [
      "<class 'pandas.core.frame.DataFrame'>\n",
      "Index: 259 entries, 193 to 66\n",
      "Data columns (total 5 columns):\n",
      " #   Column     Non-Null Count  Dtype \n",
      "---  ------     --------------  ----- \n",
      " 0   path       259 non-null    object\n",
      " 1   client_id  259 non-null    object\n",
      " 2   sentence   259 non-null    object\n",
      " 3   gender     259 non-null    object\n",
      " 4   accents    259 non-null    object\n",
      "dtypes: object(5)\n",
      "memory usage: 12.1+ KB\n"
     ]
    }
   ],
   "source": [
    "df_sampled_train.info()"
   ]
  },
  {
   "cell_type": "code",
   "execution_count": 72,
   "id": "6582ec84",
   "metadata": {},
   "outputs": [
    {
     "name": "stdout",
     "output_type": "stream",
     "text": [
      "<class 'pandas.core.frame.DataFrame'>\n",
      "Index: 65 entries, 108 to 259\n",
      "Data columns (total 5 columns):\n",
      " #   Column     Non-Null Count  Dtype \n",
      "---  ------     --------------  ----- \n",
      " 0   path       65 non-null     object\n",
      " 1   client_id  65 non-null     object\n",
      " 2   sentence   65 non-null     object\n",
      " 3   gender     65 non-null     object\n",
      " 4   accents    65 non-null     object\n",
      "dtypes: object(5)\n",
      "memory usage: 3.0+ KB\n"
     ]
    }
   ],
   "source": [
    "df_sampled_test.info()"
   ]
  },
  {
   "cell_type": "code",
   "execution_count": 73,
   "id": "8858baab",
   "metadata": {},
   "outputs": [
    {
     "data": {
      "text/html": [
       "<div>\n",
       "<style scoped>\n",
       "    .dataframe tbody tr th:only-of-type {\n",
       "        vertical-align: middle;\n",
       "    }\n",
       "\n",
       "    .dataframe tbody tr th {\n",
       "        vertical-align: top;\n",
       "    }\n",
       "\n",
       "    .dataframe thead th {\n",
       "        text-align: right;\n",
       "    }\n",
       "</style>\n",
       "<table border=\"1\" class=\"dataframe\">\n",
       "  <thead>\n",
       "    <tr style=\"text-align: right;\">\n",
       "      <th></th>\n",
       "      <th>path</th>\n",
       "      <th>client_id</th>\n",
       "      <th>sentence</th>\n",
       "      <th>gender</th>\n",
       "      <th>accents</th>\n",
       "    </tr>\n",
       "  </thead>\n",
       "  <tbody>\n",
       "    <tr>\n",
       "      <th>193</th>\n",
       "      <td>008SKAAF_arctic_a0016.wav</td>\n",
       "      <td>008SKAAF</td>\n",
       "      <td>There's Fort Churchill a rifle shot beyond the...</td>\n",
       "      <td>female_feminine</td>\n",
       "      <td>Arabian</td>\n",
       "    </tr>\n",
       "    <tr>\n",
       "      <th>160</th>\n",
       "      <td>003NJSF_arctic_a0008.wav</td>\n",
       "      <td>003NJSF</td>\n",
       "      <td>Gad your letter came just in time</td>\n",
       "      <td>female_feminine</td>\n",
       "      <td>Spanish</td>\n",
       "    </tr>\n",
       "    <tr>\n",
       "      <th>235</th>\n",
       "      <td>009YBAAM_arctic_a0022.wav</td>\n",
       "      <td>009YBAAM</td>\n",
       "      <td>Hardly were our plans made public before we we...</td>\n",
       "      <td>male_masculine</td>\n",
       "      <td>Arabian</td>\n",
       "    </tr>\n",
       "    <tr>\n",
       "      <th>222</th>\n",
       "      <td>009YBAAM_arctic_a0009.wav</td>\n",
       "      <td>009YBAAM</td>\n",
       "      <td>He turned sharply and faced Gregson across the...</td>\n",
       "      <td>male_masculine</td>\n",
       "      <td>Arabian</td>\n",
       "    </tr>\n",
       "    <tr>\n",
       "      <th>182</th>\n",
       "      <td>008SKAAF_arctic_a0005.wav</td>\n",
       "      <td>008SKAAF</td>\n",
       "      <td>Will we ever forget it</td>\n",
       "      <td>female_feminine</td>\n",
       "      <td>Arabian</td>\n",
       "    </tr>\n",
       "  </tbody>\n",
       "</table>\n",
       "</div>"
      ],
      "text/plain": [
       "                          path client_id  \\\n",
       "193  008SKAAF_arctic_a0016.wav  008SKAAF   \n",
       "160   003NJSF_arctic_a0008.wav   003NJSF   \n",
       "235  009YBAAM_arctic_a0022.wav  009YBAAM   \n",
       "222  009YBAAM_arctic_a0009.wav  009YBAAM   \n",
       "182  008SKAAF_arctic_a0005.wav  008SKAAF   \n",
       "\n",
       "                                              sentence           gender  \\\n",
       "193  There's Fort Churchill a rifle shot beyond the...  female_feminine   \n",
       "160                  Gad your letter came just in time  female_feminine   \n",
       "235  Hardly were our plans made public before we we...   male_masculine   \n",
       "222  He turned sharply and faced Gregson across the...   male_masculine   \n",
       "182                             Will we ever forget it  female_feminine   \n",
       "\n",
       "     accents  \n",
       "193  Arabian  \n",
       "160  Spanish  \n",
       "235  Arabian  \n",
       "222  Arabian  \n",
       "182  Arabian  "
      ]
     },
     "execution_count": 73,
     "metadata": {},
     "output_type": "execute_result"
    }
   ],
   "source": [
    "df_sampled_train.head()"
   ]
  },
  {
   "cell_type": "code",
   "execution_count": 74,
   "id": "39b2b796",
   "metadata": {},
   "outputs": [],
   "source": [
    "df_sampled_train.to_csv(\"train_new.csv\", index=False)\n",
    "df_sampled_test.to_csv(\"test_new.csv\", index=False)"
   ]
  }
 ],
 "metadata": {
  "kernelspec": {
   "display_name": ".venv",
   "language": "python",
   "name": "python3"
  },
  "language_info": {
   "codemirror_mode": {
    "name": "ipython",
    "version": 3
   },
   "file_extension": ".py",
   "mimetype": "text/x-python",
   "name": "python",
   "nbconvert_exporter": "python",
   "pygments_lexer": "ipython3",
   "version": "3.10.11"
  }
 },
 "nbformat": 4,
 "nbformat_minor": 5
}
